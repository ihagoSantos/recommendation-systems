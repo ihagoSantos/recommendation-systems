{
  "nbformat": 4,
  "nbformat_minor": 0,
  "metadata": {
    "colab": {
      "provenance": [],
      "authorship_tag": "ABX9TyPteMW8tQGP7cDbNTgsdkwg",
      "include_colab_link": true
    },
    "kernelspec": {
      "name": "python3",
      "display_name": "Python 3"
    },
    "language_info": {
      "name": "python"
    }
  },
  "cells": [
    {
      "cell_type": "markdown",
      "metadata": {
        "id": "view-in-github",
        "colab_type": "text"
      },
      "source": [
        "<a href=\"https://colab.research.google.com/github/ihagoSantos/recommendation-systems/blob/main/recommendation_systems_evaluation_metrics.ipynb\" target=\"_parent\"><img src=\"https://colab.research.google.com/assets/colab-badge.svg\" alt=\"Open In Colab\"/></a>"
      ]
    },
    {
      "cell_type": "markdown",
      "source": [
        "# Implementação\n",
        "\n",
        "Objetivos do notebook\n",
        "- Implementar as métricas de acurácia: Hit Rate\n",
        "- Implementar as métricas clássicas de decisão: Precision e Recall\n",
        "- Implementar uma métrica de Ranking: MRR"
      ],
      "metadata": {
        "id": "UahL1e3XpMwP"
      }
    },
    {
      "cell_type": "code",
      "source": [
        "# import libs\n",
        "import operator\n",
        "import scipy\n",
        "import numpy as np\n",
        "import pandas as pd\n",
        "import matplotlib.pyplot as plt\n",
        "\n",
        "from scipy.sparse import csr_matrix\n",
        "from collections import OrderedDict\n",
        "\n",
        "# useful command\n",
        "from IPython.core.interactiveshell import InteractiveShell\n",
        "InteractiveShell.ast_node_interactivity = 'all'\n",
        "\n",
        "plt.rcParams.update({'font.size': 14})"
      ],
      "metadata": {
        "id": "kFTO3IeIrqc_"
      },
      "execution_count": 2,
      "outputs": []
    },
    {
      "cell_type": "markdown",
      "source": [
        "### Readint train and test files\n"
      ],
      "metadata": {
        "id": "TZxXty22sE7X"
      }
    },
    {
      "cell_type": "code",
      "source": [
        "from google.colab import drive\n",
        "drive.mount('/content/drive')"
      ],
      "metadata": {
        "colab": {
          "base_uri": "https://localhost:8080/"
        },
        "id": "atQL2UG0sISo",
        "outputId": "cd6db7a9-4e61-4448-8812-702c23357dcc"
      },
      "execution_count": 3,
      "outputs": [
        {
          "output_type": "stream",
          "name": "stdout",
          "text": [
            "Mounted at /content/drive\n"
          ]
        }
      ]
    },
    {
      "cell_type": "code",
      "source": [
        "base_url='/content/drive/My Drive/Pós Graduação PUC Minas/11 - Sistemas de Recomendação/Unidade 1/praticas/dataset/ML-1M'\n",
        "\n",
        "df_train = pd.read_csv(\n",
        "    base_url + '/trainSet.txt',\n",
        "    sep='::',\n",
        "    engine='python',\n",
        "    names=['userId', 'itemId', 'rating', 'timestamp']\n",
        ")\n",
        "df_test = pd.read_csv(\n",
        "    base_url + '/testSet.txt',\n",
        "    sep='::',\n",
        "    engine='python',\n",
        "    names=['userId', 'itemId', 'rating', 'timestamp']\n",
        ")\n",
        "\n",
        "df_train.head()\n",
        "df_test.head()"
      ],
      "metadata": {
        "colab": {
          "base_uri": "https://localhost:8080/",
          "height": 396
        },
        "id": "boYGKAKXsdzz",
        "outputId": "c405a68a-14d4-4f64-9b15-008977d6012d"
      },
      "execution_count": 4,
      "outputs": [
        {
          "output_type": "execute_result",
          "data": {
            "text/plain": [
              "   userId  itemId  rating    timestamp\n",
              "0       1    1193     5.0  978300760.0\n",
              "1       1     661     3.0  978302109.0\n",
              "2       1     914     3.0  978301968.0\n",
              "3       1    3408     4.0  978300275.0\n",
              "4       1    1197     3.0  978302268.0"
            ],
            "text/html": [
              "\n",
              "  <div id=\"df-35ececb0-bb9e-4ec0-8a09-dc13e88b3aa3\" class=\"colab-df-container\">\n",
              "    <div>\n",
              "<style scoped>\n",
              "    .dataframe tbody tr th:only-of-type {\n",
              "        vertical-align: middle;\n",
              "    }\n",
              "\n",
              "    .dataframe tbody tr th {\n",
              "        vertical-align: top;\n",
              "    }\n",
              "\n",
              "    .dataframe thead th {\n",
              "        text-align: right;\n",
              "    }\n",
              "</style>\n",
              "<table border=\"1\" class=\"dataframe\">\n",
              "  <thead>\n",
              "    <tr style=\"text-align: right;\">\n",
              "      <th></th>\n",
              "      <th>userId</th>\n",
              "      <th>itemId</th>\n",
              "      <th>rating</th>\n",
              "      <th>timestamp</th>\n",
              "    </tr>\n",
              "  </thead>\n",
              "  <tbody>\n",
              "    <tr>\n",
              "      <th>0</th>\n",
              "      <td>1</td>\n",
              "      <td>1193</td>\n",
              "      <td>5.0</td>\n",
              "      <td>978300760.0</td>\n",
              "    </tr>\n",
              "    <tr>\n",
              "      <th>1</th>\n",
              "      <td>1</td>\n",
              "      <td>661</td>\n",
              "      <td>3.0</td>\n",
              "      <td>978302109.0</td>\n",
              "    </tr>\n",
              "    <tr>\n",
              "      <th>2</th>\n",
              "      <td>1</td>\n",
              "      <td>914</td>\n",
              "      <td>3.0</td>\n",
              "      <td>978301968.0</td>\n",
              "    </tr>\n",
              "    <tr>\n",
              "      <th>3</th>\n",
              "      <td>1</td>\n",
              "      <td>3408</td>\n",
              "      <td>4.0</td>\n",
              "      <td>978300275.0</td>\n",
              "    </tr>\n",
              "    <tr>\n",
              "      <th>4</th>\n",
              "      <td>1</td>\n",
              "      <td>1197</td>\n",
              "      <td>3.0</td>\n",
              "      <td>978302268.0</td>\n",
              "    </tr>\n",
              "  </tbody>\n",
              "</table>\n",
              "</div>\n",
              "    <div class=\"colab-df-buttons\">\n",
              "\n",
              "  <div class=\"colab-df-container\">\n",
              "    <button class=\"colab-df-convert\" onclick=\"convertToInteractive('df-35ececb0-bb9e-4ec0-8a09-dc13e88b3aa3')\"\n",
              "            title=\"Convert this dataframe to an interactive table.\"\n",
              "            style=\"display:none;\">\n",
              "\n",
              "  <svg xmlns=\"http://www.w3.org/2000/svg\" height=\"24px\" viewBox=\"0 -960 960 960\">\n",
              "    <path d=\"M120-120v-720h720v720H120Zm60-500h600v-160H180v160Zm220 220h160v-160H400v160Zm0 220h160v-160H400v160ZM180-400h160v-160H180v160Zm440 0h160v-160H620v160ZM180-180h160v-160H180v160Zm440 0h160v-160H620v160Z\"/>\n",
              "  </svg>\n",
              "    </button>\n",
              "\n",
              "  <style>\n",
              "    .colab-df-container {\n",
              "      display:flex;\n",
              "      gap: 12px;\n",
              "    }\n",
              "\n",
              "    .colab-df-convert {\n",
              "      background-color: #E8F0FE;\n",
              "      border: none;\n",
              "      border-radius: 50%;\n",
              "      cursor: pointer;\n",
              "      display: none;\n",
              "      fill: #1967D2;\n",
              "      height: 32px;\n",
              "      padding: 0 0 0 0;\n",
              "      width: 32px;\n",
              "    }\n",
              "\n",
              "    .colab-df-convert:hover {\n",
              "      background-color: #E2EBFA;\n",
              "      box-shadow: 0px 1px 2px rgba(60, 64, 67, 0.3), 0px 1px 3px 1px rgba(60, 64, 67, 0.15);\n",
              "      fill: #174EA6;\n",
              "    }\n",
              "\n",
              "    .colab-df-buttons div {\n",
              "      margin-bottom: 4px;\n",
              "    }\n",
              "\n",
              "    [theme=dark] .colab-df-convert {\n",
              "      background-color: #3B4455;\n",
              "      fill: #D2E3FC;\n",
              "    }\n",
              "\n",
              "    [theme=dark] .colab-df-convert:hover {\n",
              "      background-color: #434B5C;\n",
              "      box-shadow: 0px 1px 3px 1px rgba(0, 0, 0, 0.15);\n",
              "      filter: drop-shadow(0px 1px 2px rgba(0, 0, 0, 0.3));\n",
              "      fill: #FFFFFF;\n",
              "    }\n",
              "  </style>\n",
              "\n",
              "    <script>\n",
              "      const buttonEl =\n",
              "        document.querySelector('#df-35ececb0-bb9e-4ec0-8a09-dc13e88b3aa3 button.colab-df-convert');\n",
              "      buttonEl.style.display =\n",
              "        google.colab.kernel.accessAllowed ? 'block' : 'none';\n",
              "\n",
              "      async function convertToInteractive(key) {\n",
              "        const element = document.querySelector('#df-35ececb0-bb9e-4ec0-8a09-dc13e88b3aa3');\n",
              "        const dataTable =\n",
              "          await google.colab.kernel.invokeFunction('convertToInteractive',\n",
              "                                                    [key], {});\n",
              "        if (!dataTable) return;\n",
              "\n",
              "        const docLinkHtml = 'Like what you see? Visit the ' +\n",
              "          '<a target=\"_blank\" href=https://colab.research.google.com/notebooks/data_table.ipynb>data table notebook</a>'\n",
              "          + ' to learn more about interactive tables.';\n",
              "        element.innerHTML = '';\n",
              "        dataTable['output_type'] = 'display_data';\n",
              "        await google.colab.output.renderOutput(dataTable, element);\n",
              "        const docLink = document.createElement('div');\n",
              "        docLink.innerHTML = docLinkHtml;\n",
              "        element.appendChild(docLink);\n",
              "      }\n",
              "    </script>\n",
              "  </div>\n",
              "\n",
              "\n",
              "<div id=\"df-10723e27-fb42-4c52-b996-58bc6f8f35cb\">\n",
              "  <button class=\"colab-df-quickchart\" onclick=\"quickchart('df-10723e27-fb42-4c52-b996-58bc6f8f35cb')\"\n",
              "            title=\"Suggest charts\"\n",
              "            style=\"display:none;\">\n",
              "\n",
              "<svg xmlns=\"http://www.w3.org/2000/svg\" height=\"24px\"viewBox=\"0 0 24 24\"\n",
              "     width=\"24px\">\n",
              "    <g>\n",
              "        <path d=\"M19 3H5c-1.1 0-2 .9-2 2v14c0 1.1.9 2 2 2h14c1.1 0 2-.9 2-2V5c0-1.1-.9-2-2-2zM9 17H7v-7h2v7zm4 0h-2V7h2v10zm4 0h-2v-4h2v4z\"/>\n",
              "    </g>\n",
              "</svg>\n",
              "  </button>\n",
              "\n",
              "<style>\n",
              "  .colab-df-quickchart {\n",
              "      --bg-color: #E8F0FE;\n",
              "      --fill-color: #1967D2;\n",
              "      --hover-bg-color: #E2EBFA;\n",
              "      --hover-fill-color: #174EA6;\n",
              "      --disabled-fill-color: #AAA;\n",
              "      --disabled-bg-color: #DDD;\n",
              "  }\n",
              "\n",
              "  [theme=dark] .colab-df-quickchart {\n",
              "      --bg-color: #3B4455;\n",
              "      --fill-color: #D2E3FC;\n",
              "      --hover-bg-color: #434B5C;\n",
              "      --hover-fill-color: #FFFFFF;\n",
              "      --disabled-bg-color: #3B4455;\n",
              "      --disabled-fill-color: #666;\n",
              "  }\n",
              "\n",
              "  .colab-df-quickchart {\n",
              "    background-color: var(--bg-color);\n",
              "    border: none;\n",
              "    border-radius: 50%;\n",
              "    cursor: pointer;\n",
              "    display: none;\n",
              "    fill: var(--fill-color);\n",
              "    height: 32px;\n",
              "    padding: 0;\n",
              "    width: 32px;\n",
              "  }\n",
              "\n",
              "  .colab-df-quickchart:hover {\n",
              "    background-color: var(--hover-bg-color);\n",
              "    box-shadow: 0 1px 2px rgba(60, 64, 67, 0.3), 0 1px 3px 1px rgba(60, 64, 67, 0.15);\n",
              "    fill: var(--button-hover-fill-color);\n",
              "  }\n",
              "\n",
              "  .colab-df-quickchart-complete:disabled,\n",
              "  .colab-df-quickchart-complete:disabled:hover {\n",
              "    background-color: var(--disabled-bg-color);\n",
              "    fill: var(--disabled-fill-color);\n",
              "    box-shadow: none;\n",
              "  }\n",
              "\n",
              "  .colab-df-spinner {\n",
              "    border: 2px solid var(--fill-color);\n",
              "    border-color: transparent;\n",
              "    border-bottom-color: var(--fill-color);\n",
              "    animation:\n",
              "      spin 1s steps(1) infinite;\n",
              "  }\n",
              "\n",
              "  @keyframes spin {\n",
              "    0% {\n",
              "      border-color: transparent;\n",
              "      border-bottom-color: var(--fill-color);\n",
              "      border-left-color: var(--fill-color);\n",
              "    }\n",
              "    20% {\n",
              "      border-color: transparent;\n",
              "      border-left-color: var(--fill-color);\n",
              "      border-top-color: var(--fill-color);\n",
              "    }\n",
              "    30% {\n",
              "      border-color: transparent;\n",
              "      border-left-color: var(--fill-color);\n",
              "      border-top-color: var(--fill-color);\n",
              "      border-right-color: var(--fill-color);\n",
              "    }\n",
              "    40% {\n",
              "      border-color: transparent;\n",
              "      border-right-color: var(--fill-color);\n",
              "      border-top-color: var(--fill-color);\n",
              "    }\n",
              "    60% {\n",
              "      border-color: transparent;\n",
              "      border-right-color: var(--fill-color);\n",
              "    }\n",
              "    80% {\n",
              "      border-color: transparent;\n",
              "      border-right-color: var(--fill-color);\n",
              "      border-bottom-color: var(--fill-color);\n",
              "    }\n",
              "    90% {\n",
              "      border-color: transparent;\n",
              "      border-bottom-color: var(--fill-color);\n",
              "    }\n",
              "  }\n",
              "</style>\n",
              "\n",
              "  <script>\n",
              "    async function quickchart(key) {\n",
              "      const quickchartButtonEl =\n",
              "        document.querySelector('#' + key + ' button');\n",
              "      quickchartButtonEl.disabled = true;  // To prevent multiple clicks.\n",
              "      quickchartButtonEl.classList.add('colab-df-spinner');\n",
              "      try {\n",
              "        const charts = await google.colab.kernel.invokeFunction(\n",
              "            'suggestCharts', [key], {});\n",
              "      } catch (error) {\n",
              "        console.error('Error during call to suggestCharts:', error);\n",
              "      }\n",
              "      quickchartButtonEl.classList.remove('colab-df-spinner');\n",
              "      quickchartButtonEl.classList.add('colab-df-quickchart-complete');\n",
              "    }\n",
              "    (() => {\n",
              "      let quickchartButtonEl =\n",
              "        document.querySelector('#df-10723e27-fb42-4c52-b996-58bc6f8f35cb button');\n",
              "      quickchartButtonEl.style.display =\n",
              "        google.colab.kernel.accessAllowed ? 'block' : 'none';\n",
              "    })();\n",
              "  </script>\n",
              "</div>\n",
              "\n",
              "    </div>\n",
              "  </div>\n"
            ],
            "application/vnd.google.colaboratory.intrinsic+json": {
              "type": "dataframe",
              "variable_name": "df_test"
            }
          },
          "metadata": {},
          "execution_count": 4
        },
        {
          "output_type": "execute_result",
          "data": {
            "text/plain": [
              "   userId  itemId  rating    timestamp\n",
              "0       1    2355     5.0  978824291.0\n",
              "1       1     595     5.0  978824268.0\n",
              "2       1    2687     3.0  978824268.0\n",
              "3       1      48     5.0  978824351.0\n",
              "4       1     745     3.0  978824268.0"
            ],
            "text/html": [
              "\n",
              "  <div id=\"df-6a5be8cb-6d5d-4907-afdc-4205a5e433e0\" class=\"colab-df-container\">\n",
              "    <div>\n",
              "<style scoped>\n",
              "    .dataframe tbody tr th:only-of-type {\n",
              "        vertical-align: middle;\n",
              "    }\n",
              "\n",
              "    .dataframe tbody tr th {\n",
              "        vertical-align: top;\n",
              "    }\n",
              "\n",
              "    .dataframe thead th {\n",
              "        text-align: right;\n",
              "    }\n",
              "</style>\n",
              "<table border=\"1\" class=\"dataframe\">\n",
              "  <thead>\n",
              "    <tr style=\"text-align: right;\">\n",
              "      <th></th>\n",
              "      <th>userId</th>\n",
              "      <th>itemId</th>\n",
              "      <th>rating</th>\n",
              "      <th>timestamp</th>\n",
              "    </tr>\n",
              "  </thead>\n",
              "  <tbody>\n",
              "    <tr>\n",
              "      <th>0</th>\n",
              "      <td>1</td>\n",
              "      <td>2355</td>\n",
              "      <td>5.0</td>\n",
              "      <td>978824291.0</td>\n",
              "    </tr>\n",
              "    <tr>\n",
              "      <th>1</th>\n",
              "      <td>1</td>\n",
              "      <td>595</td>\n",
              "      <td>5.0</td>\n",
              "      <td>978824268.0</td>\n",
              "    </tr>\n",
              "    <tr>\n",
              "      <th>2</th>\n",
              "      <td>1</td>\n",
              "      <td>2687</td>\n",
              "      <td>3.0</td>\n",
              "      <td>978824268.0</td>\n",
              "    </tr>\n",
              "    <tr>\n",
              "      <th>3</th>\n",
              "      <td>1</td>\n",
              "      <td>48</td>\n",
              "      <td>5.0</td>\n",
              "      <td>978824351.0</td>\n",
              "    </tr>\n",
              "    <tr>\n",
              "      <th>4</th>\n",
              "      <td>1</td>\n",
              "      <td>745</td>\n",
              "      <td>3.0</td>\n",
              "      <td>978824268.0</td>\n",
              "    </tr>\n",
              "  </tbody>\n",
              "</table>\n",
              "</div>\n",
              "    <div class=\"colab-df-buttons\">\n",
              "\n",
              "  <div class=\"colab-df-container\">\n",
              "    <button class=\"colab-df-convert\" onclick=\"convertToInteractive('df-6a5be8cb-6d5d-4907-afdc-4205a5e433e0')\"\n",
              "            title=\"Convert this dataframe to an interactive table.\"\n",
              "            style=\"display:none;\">\n",
              "\n",
              "  <svg xmlns=\"http://www.w3.org/2000/svg\" height=\"24px\" viewBox=\"0 -960 960 960\">\n",
              "    <path d=\"M120-120v-720h720v720H120Zm60-500h600v-160H180v160Zm220 220h160v-160H400v160Zm0 220h160v-160H400v160ZM180-400h160v-160H180v160Zm440 0h160v-160H620v160ZM180-180h160v-160H180v160Zm440 0h160v-160H620v160Z\"/>\n",
              "  </svg>\n",
              "    </button>\n",
              "\n",
              "  <style>\n",
              "    .colab-df-container {\n",
              "      display:flex;\n",
              "      gap: 12px;\n",
              "    }\n",
              "\n",
              "    .colab-df-convert {\n",
              "      background-color: #E8F0FE;\n",
              "      border: none;\n",
              "      border-radius: 50%;\n",
              "      cursor: pointer;\n",
              "      display: none;\n",
              "      fill: #1967D2;\n",
              "      height: 32px;\n",
              "      padding: 0 0 0 0;\n",
              "      width: 32px;\n",
              "    }\n",
              "\n",
              "    .colab-df-convert:hover {\n",
              "      background-color: #E2EBFA;\n",
              "      box-shadow: 0px 1px 2px rgba(60, 64, 67, 0.3), 0px 1px 3px 1px rgba(60, 64, 67, 0.15);\n",
              "      fill: #174EA6;\n",
              "    }\n",
              "\n",
              "    .colab-df-buttons div {\n",
              "      margin-bottom: 4px;\n",
              "    }\n",
              "\n",
              "    [theme=dark] .colab-df-convert {\n",
              "      background-color: #3B4455;\n",
              "      fill: #D2E3FC;\n",
              "    }\n",
              "\n",
              "    [theme=dark] .colab-df-convert:hover {\n",
              "      background-color: #434B5C;\n",
              "      box-shadow: 0px 1px 3px 1px rgba(0, 0, 0, 0.15);\n",
              "      filter: drop-shadow(0px 1px 2px rgba(0, 0, 0, 0.3));\n",
              "      fill: #FFFFFF;\n",
              "    }\n",
              "  </style>\n",
              "\n",
              "    <script>\n",
              "      const buttonEl =\n",
              "        document.querySelector('#df-6a5be8cb-6d5d-4907-afdc-4205a5e433e0 button.colab-df-convert');\n",
              "      buttonEl.style.display =\n",
              "        google.colab.kernel.accessAllowed ? 'block' : 'none';\n",
              "\n",
              "      async function convertToInteractive(key) {\n",
              "        const element = document.querySelector('#df-6a5be8cb-6d5d-4907-afdc-4205a5e433e0');\n",
              "        const dataTable =\n",
              "          await google.colab.kernel.invokeFunction('convertToInteractive',\n",
              "                                                    [key], {});\n",
              "        if (!dataTable) return;\n",
              "\n",
              "        const docLinkHtml = 'Like what you see? Visit the ' +\n",
              "          '<a target=\"_blank\" href=https://colab.research.google.com/notebooks/data_table.ipynb>data table notebook</a>'\n",
              "          + ' to learn more about interactive tables.';\n",
              "        element.innerHTML = '';\n",
              "        dataTable['output_type'] = 'display_data';\n",
              "        await google.colab.output.renderOutput(dataTable, element);\n",
              "        const docLink = document.createElement('div');\n",
              "        docLink.innerHTML = docLinkHtml;\n",
              "        element.appendChild(docLink);\n",
              "      }\n",
              "    </script>\n",
              "  </div>\n",
              "\n",
              "\n",
              "<div id=\"df-d0304b6a-3731-45a8-a6da-4f9269ec9695\">\n",
              "  <button class=\"colab-df-quickchart\" onclick=\"quickchart('df-d0304b6a-3731-45a8-a6da-4f9269ec9695')\"\n",
              "            title=\"Suggest charts\"\n",
              "            style=\"display:none;\">\n",
              "\n",
              "<svg xmlns=\"http://www.w3.org/2000/svg\" height=\"24px\"viewBox=\"0 0 24 24\"\n",
              "     width=\"24px\">\n",
              "    <g>\n",
              "        <path d=\"M19 3H5c-1.1 0-2 .9-2 2v14c0 1.1.9 2 2 2h14c1.1 0 2-.9 2-2V5c0-1.1-.9-2-2-2zM9 17H7v-7h2v7zm4 0h-2V7h2v10zm4 0h-2v-4h2v4z\"/>\n",
              "    </g>\n",
              "</svg>\n",
              "  </button>\n",
              "\n",
              "<style>\n",
              "  .colab-df-quickchart {\n",
              "      --bg-color: #E8F0FE;\n",
              "      --fill-color: #1967D2;\n",
              "      --hover-bg-color: #E2EBFA;\n",
              "      --hover-fill-color: #174EA6;\n",
              "      --disabled-fill-color: #AAA;\n",
              "      --disabled-bg-color: #DDD;\n",
              "  }\n",
              "\n",
              "  [theme=dark] .colab-df-quickchart {\n",
              "      --bg-color: #3B4455;\n",
              "      --fill-color: #D2E3FC;\n",
              "      --hover-bg-color: #434B5C;\n",
              "      --hover-fill-color: #FFFFFF;\n",
              "      --disabled-bg-color: #3B4455;\n",
              "      --disabled-fill-color: #666;\n",
              "  }\n",
              "\n",
              "  .colab-df-quickchart {\n",
              "    background-color: var(--bg-color);\n",
              "    border: none;\n",
              "    border-radius: 50%;\n",
              "    cursor: pointer;\n",
              "    display: none;\n",
              "    fill: var(--fill-color);\n",
              "    height: 32px;\n",
              "    padding: 0;\n",
              "    width: 32px;\n",
              "  }\n",
              "\n",
              "  .colab-df-quickchart:hover {\n",
              "    background-color: var(--hover-bg-color);\n",
              "    box-shadow: 0 1px 2px rgba(60, 64, 67, 0.3), 0 1px 3px 1px rgba(60, 64, 67, 0.15);\n",
              "    fill: var(--button-hover-fill-color);\n",
              "  }\n",
              "\n",
              "  .colab-df-quickchart-complete:disabled,\n",
              "  .colab-df-quickchart-complete:disabled:hover {\n",
              "    background-color: var(--disabled-bg-color);\n",
              "    fill: var(--disabled-fill-color);\n",
              "    box-shadow: none;\n",
              "  }\n",
              "\n",
              "  .colab-df-spinner {\n",
              "    border: 2px solid var(--fill-color);\n",
              "    border-color: transparent;\n",
              "    border-bottom-color: var(--fill-color);\n",
              "    animation:\n",
              "      spin 1s steps(1) infinite;\n",
              "  }\n",
              "\n",
              "  @keyframes spin {\n",
              "    0% {\n",
              "      border-color: transparent;\n",
              "      border-bottom-color: var(--fill-color);\n",
              "      border-left-color: var(--fill-color);\n",
              "    }\n",
              "    20% {\n",
              "      border-color: transparent;\n",
              "      border-left-color: var(--fill-color);\n",
              "      border-top-color: var(--fill-color);\n",
              "    }\n",
              "    30% {\n",
              "      border-color: transparent;\n",
              "      border-left-color: var(--fill-color);\n",
              "      border-top-color: var(--fill-color);\n",
              "      border-right-color: var(--fill-color);\n",
              "    }\n",
              "    40% {\n",
              "      border-color: transparent;\n",
              "      border-right-color: var(--fill-color);\n",
              "      border-top-color: var(--fill-color);\n",
              "    }\n",
              "    60% {\n",
              "      border-color: transparent;\n",
              "      border-right-color: var(--fill-color);\n",
              "    }\n",
              "    80% {\n",
              "      border-color: transparent;\n",
              "      border-right-color: var(--fill-color);\n",
              "      border-bottom-color: var(--fill-color);\n",
              "    }\n",
              "    90% {\n",
              "      border-color: transparent;\n",
              "      border-bottom-color: var(--fill-color);\n",
              "    }\n",
              "  }\n",
              "</style>\n",
              "\n",
              "  <script>\n",
              "    async function quickchart(key) {\n",
              "      const quickchartButtonEl =\n",
              "        document.querySelector('#' + key + ' button');\n",
              "      quickchartButtonEl.disabled = true;  // To prevent multiple clicks.\n",
              "      quickchartButtonEl.classList.add('colab-df-spinner');\n",
              "      try {\n",
              "        const charts = await google.colab.kernel.invokeFunction(\n",
              "            'suggestCharts', [key], {});\n",
              "      } catch (error) {\n",
              "        console.error('Error during call to suggestCharts:', error);\n",
              "      }\n",
              "      quickchartButtonEl.classList.remove('colab-df-spinner');\n",
              "      quickchartButtonEl.classList.add('colab-df-quickchart-complete');\n",
              "    }\n",
              "    (() => {\n",
              "      let quickchartButtonEl =\n",
              "        document.querySelector('#df-d0304b6a-3731-45a8-a6da-4f9269ec9695 button');\n",
              "      quickchartButtonEl.style.display =\n",
              "        google.colab.kernel.accessAllowed ? 'block' : 'none';\n",
              "    })();\n",
              "  </script>\n",
              "</div>\n",
              "\n",
              "    </div>\n",
              "  </div>\n"
            ],
            "application/vnd.google.colaboratory.intrinsic+json": {
              "type": "dataframe",
              "variable_name": "df_test"
            }
          },
          "metadata": {},
          "execution_count": 4
        }
      ]
    },
    {
      "cell_type": "markdown",
      "source": [
        "## Creating Sparse Matrix for these sets"
      ],
      "metadata": {
        "id": "UYx6ceZ6sXtI"
      }
    },
    {
      "cell_type": "code",
      "source": [
        "# sparse matrix of train set\n",
        "users = df_train['userId']\n",
        "items = df_train['itemId']\n",
        "ratings = df_train['rating']"
      ],
      "metadata": {
        "id": "nwVHUTI4sdms"
      },
      "execution_count": 5,
      "outputs": []
    },
    {
      "cell_type": "code",
      "source": [
        "nb_users = max(users)\n",
        "nb_items = max(items)"
      ],
      "metadata": {
        "id": "2Y3-JHvfs6yk"
      },
      "execution_count": 6,
      "outputs": []
    },
    {
      "cell_type": "code",
      "source": [
        "train_matrix = csr_matrix((ratings, (users, items)), shape=(nb_users + 1, nb_items + 1))\n",
        "train_matrix.shape"
      ],
      "metadata": {
        "colab": {
          "base_uri": "https://localhost:8080/"
        },
        "id": "yX-hy90cs_im",
        "outputId": "6b9a3795-77a9-4184-b3d4-f383c649a845"
      },
      "execution_count": 7,
      "outputs": [
        {
          "output_type": "execute_result",
          "data": {
            "text/plain": [
              "(6041, 3953)"
            ]
          },
          "metadata": {},
          "execution_count": 7
        }
      ]
    },
    {
      "cell_type": "code",
      "source": [
        "# Sparse matrix of test set\n",
        "users = df_test['userId']\n",
        "items = df_test['itemId']\n",
        "ratings = df_test['rating']\n",
        "\n",
        "test_matrix = csr_matrix((ratings, (users, items)), shape=(nb_users + 1, nb_items + 1))\n",
        "test_matrix.shape"
      ],
      "metadata": {
        "colab": {
          "base_uri": "https://localhost:8080/"
        },
        "id": "ggZhGMXrtXi8",
        "outputId": "5505d4ad-ad83-458c-e402-40c9456118c5"
      },
      "execution_count": 10,
      "outputs": [
        {
          "output_type": "execute_result",
          "data": {
            "text/plain": [
              "(6041, 3953)"
            ]
          },
          "metadata": {},
          "execution_count": 10
        }
      ]
    },
    {
      "cell_type": "markdown",
      "source": [
        "## Reading the recommendation"
      ],
      "metadata": {
        "id": "velt9s_3uGb3"
      }
    },
    {
      "cell_type": "code",
      "source": [
        "def readRecommendation(file_name):\n",
        "  recommendations = {}\n",
        "  file_in = open(file_name, 'r')\n",
        "\n",
        "  for row in file_in:\n",
        "    row = row.rstrip()\n",
        "    #extracting userId\n",
        "    values = row.split('\\t')\n",
        "    userId = int(values[0])\n",
        "    recommendations[userId] = []\n",
        "    # extracting items\n",
        "    values[1] = values[1].replace('[', '')\n",
        "    values[1] = values[1].replace(']', '')\n",
        "    recList = values[1].split(',')\n",
        "    #saving items\n",
        "    for tupla in recList:\n",
        "      v = tupla.split(':')\n",
        "      recommendations[userId].append(int(v[0]))\n",
        "\n",
        "  file_in.close()\n",
        "\n",
        "  return recommendations"
      ],
      "metadata": {
        "id": "G6TuyrkUuIro"
      },
      "execution_count": 11,
      "outputs": []
    },
    {
      "cell_type": "markdown",
      "source": [
        "reading all files saved before"
      ],
      "metadata": {
        "id": "4d0N-SrgvFUy"
      }
    },
    {
      "cell_type": "code",
      "source": [
        "base_url='/content/drive/My Drive/Pós Graduação PUC Minas/11 - Sistemas de Recomendação/Unidade 4/praticas'\n",
        "rec_MostPopular = readRecommendation(base_url + '/recList_MostPopular.txt')\n",
        "rec_BestRated = readRecommendation(base_url + '/recList_BestRated.txt')\n",
        "rec_Rocchio = readRecommendation(base_url + '/recList_Rocchio.txt')\n",
        "rec_PureSVD = readRecommendation(base_url + '/recList_PureSVD.txt')"
      ],
      "metadata": {
        "id": "VXAM5livvIrc"
      },
      "execution_count": 13,
      "outputs": []
    },
    {
      "cell_type": "code",
      "source": [
        "rec_MostPopular[1]"
      ],
      "metadata": {
        "colab": {
          "base_uri": "https://localhost:8080/"
        },
        "id": "5VuO4hVsv0l9",
        "outputId": "4eeea8a1-604f-4b0e-c009-91578767641e"
      },
      "execution_count": 14,
      "outputs": [
        {
          "output_type": "execute_result",
          "data": {
            "text/plain": [
              "[2858, 1196, 1210, 480, 589, 2571, 1198, 593, 1580, 110]"
            ]
          },
          "metadata": {},
          "execution_count": 14
        }
      ]
    },
    {
      "cell_type": "markdown",
      "source": [
        "## Taxa de Acerto (Hit Rate)\n",
        "É a média do número de itens recomendados que estão no conjunto teste de cada usuário\n",
        "- Cada usuário tem uma lista de recomendação R associada\n",
        "- Para cada usuário, conte quantos itens estão em R e no conjunto teste\n",
        "- Calcule a média (i.e., some tudo e divida pelo número de usuários)\n",
        "- Quanto maior o valor, melhor é o recomendador!"
      ],
      "metadata": {
        "id": "NisxJfDfpj6c"
      }
    },
    {
      "cell_type": "code",
      "source": [
        "def metric_hitRate(users_targets, test_matrix, recommendation):\n",
        "  hitRate = {}\n",
        "\n",
        "  for u in users_targets:\n",
        "    # items consumed by u in test set\n",
        "    items_consumed = list(np.nonzero(test_matrix[u,:])[1])\n",
        "    # hits represented by intersection\n",
        "    hits = set(recommendation[u]).intersection(set(items_consumed))\n",
        "    #saving\n",
        "    hitRate[u] = len(hits)\n",
        "\n",
        "  return hitRate"
      ],
      "metadata": {
        "id": "xOig4nX2w9aV"
      },
      "execution_count": 16,
      "outputs": []
    },
    {
      "cell_type": "markdown",
      "source": [
        "## Precision & Recall\n",
        "### Precision\n",
        "- Porcentagem de itens retornados que são relevantes\n",
        "$$\n",
        "Prec = \\frac{|G \\cap U|}{|R|}\n",
        "$$\n",
        "### Recall\n",
        "- Porcentagem de itens relevantes que são retornados\n",
        "$$\n",
        "Rec = \\frac{|G \\cap R|}{|G|}\n",
        "$$\n",
        "Onde:\n",
        "- G: relevant\n",
        "- R: retrieved"
      ],
      "metadata": {
        "id": "yvneKXbUp-WK"
      }
    },
    {
      "cell_type": "code",
      "source": [
        "def metric_precision_recall(users_targets, test_matrix, recommendation):\n",
        "  precision = {}\n",
        "  recall = {}\n",
        "\n",
        "  for u in users_targets:\n",
        "    # items consumed by u in test set\n",
        "    items_consumed = list(np.nonzero(test_matrix[u,:])[1])\n",
        "    # measuring u's avarage rating\n",
        "    mean_rating = np.sum(test_matrix[u,:]) / float(len(items_consumed))\n",
        "    # selecting relevant items for u\n",
        "    relevants = []\n",
        "    for i in items_consumed:\n",
        "      if(test_matrix[u,i] >= mean_rating):\n",
        "        relevants.append(i)\n",
        "\n",
        "    # relevants INT retrieved\n",
        "    inter = set(recommendation[u]).intersection(set(relevants))\n",
        "    # measuring precision\n",
        "    precision[u] = len(inter)/float(len(recommendation[u]))\n",
        "    # measuring recall\n",
        "    recall[u] = len(inter)/float(len(relevants))\n",
        "\n",
        "  return precision, recall"
      ],
      "metadata": {
        "id": "4k6UE0abx1xl"
      },
      "execution_count": 27,
      "outputs": []
    },
    {
      "cell_type": "markdown",
      "source": [
        "## MRR: Mean Reciprocal Rank\n",
        "- Similar ao Precision e Recall\n",
        "  - Prec/Rec mensuram a probabilidade dos itens serem relevantes (precision) e do usuário encontrá-los (recall)\n",
        "  - RR mensura o 'esforço' do usuário para encontrar os relevantes\n",
        "- RR = 1/i, onde i é a posição do primeiro item relevante\n",
        "- MRR: média desse esforço para os usuários\n",
        "$$\n",
        "\\frac{1}{m}\\sum_{i=1}^{m}RR(q_{i})\n",
        "$$"
      ],
      "metadata": {
        "id": "12937QgLqvg2"
      }
    },
    {
      "cell_type": "code",
      "execution_count": 18,
      "metadata": {
        "id": "QMmH07xZpISl"
      },
      "outputs": [],
      "source": [
        "def metric_reciprocalRank(users_targets, test_matrix, recommendation):\n",
        "  reciprocalRank = {}\n",
        "  for u in users_targets:\n",
        "    # items consumed by u in test set\n",
        "    items_consumed = list(np.nonzero(test_matrix[u,:])[1])\n",
        "    # measuring u's avarage rating\n",
        "    mean_rating = np.sum(test_matrix[u,:])/float(len(items_consumed))\n",
        "    # selecting relevant items for u\n",
        "    relevants = []\n",
        "    for i in items_consumed:\n",
        "      if(test_matrix[u,i] >= mean_rating):\n",
        "        relevants.append(i)\n",
        "    # measuring RR\n",
        "    reciprocalRank[u] = 0\n",
        "    cont = 1\n",
        "    for i in recommendation[u]:\n",
        "      if(i in relevants):\n",
        "        reciprocalRank[u] = 1/float(cont)\n",
        "        break\n",
        "      else:\n",
        "        cont += 1\n",
        "\n",
        "  return reciprocalRank"
      ]
    },
    {
      "cell_type": "markdown",
      "source": [
        "# Analyzing recommendation effectiveness"
      ],
      "metadata": {
        "id": "2BkH5mYJ02Io"
      }
    },
    {
      "cell_type": "code",
      "source": [
        "users_targets = rec_MostPopular.keys()"
      ],
      "metadata": {
        "id": "sTU-n0P60kwC"
      },
      "execution_count": 19,
      "outputs": []
    },
    {
      "cell_type": "code",
      "source": [
        "def statisticInformation(distribution, name):\n",
        "  print(\"RS:\", name)\n",
        "  print('\\t- Min:', np.min(distribution))\n",
        "  print('\\t- Max:', np.max(distribution))\n",
        "  print('\\t- Mean:', np.mean(distribution))\n",
        "  print('\\t- Median:', np.median(distribution))\n",
        "  print('\\t- STD:', np.std(distribution))"
      ],
      "metadata": {
        "id": "08GeRPfd067B"
      },
      "execution_count": 20,
      "outputs": []
    },
    {
      "cell_type": "code",
      "source": [
        "def plotDistribution(distribution, x_label, y_label, name):\n",
        "  distribution.sort(reverse=True)\n",
        "  plt.plot(distribution, color='blue')\n",
        "  plt.title(name)\n",
        "  plt.ylabel(y_label)\n",
        "  plt.xlabel(x_label)\n",
        "  plt.show()"
      ],
      "metadata": {
        "id": "oi566SNY1aEC"
      },
      "execution_count": 21,
      "outputs": []
    },
    {
      "cell_type": "markdown",
      "source": [
        "## Measuring hit-rate and analyzing it"
      ],
      "metadata": {
        "id": "6Tq-51EW1sb3"
      }
    },
    {
      "cell_type": "code",
      "source": [
        "hitRate_MP = metric_hitRate(users_targets, test_matrix, rec_MostPopular)\n",
        "hitRate_BR = metric_hitRate(users_targets, test_matrix, rec_BestRated)\n",
        "hitRate_Roc = metric_hitRate(users_targets, test_matrix, rec_Rocchio)\n",
        "hitRate_SVD = metric_hitRate(users_targets, test_matrix, rec_PureSVD)"
      ],
      "metadata": {
        "id": "N3xJHE3H1pPX"
      },
      "execution_count": 22,
      "outputs": []
    },
    {
      "cell_type": "code",
      "source": [
        "statisticInformation(list(hitRate_MP.values()), \"Most-Popular\")\n",
        "statisticInformation(list(hitRate_BR.values()), \"Best-Rated\")\n",
        "statisticInformation(list(hitRate_Roc.values()), \"Rocchio\")\n",
        "statisticInformation(list(hitRate_SVD.values()), \"PureSVD\")"
      ],
      "metadata": {
        "colab": {
          "base_uri": "https://localhost:8080/"
        },
        "id": "F8pNgnAe1-Pa",
        "outputId": "93a57fc6-8269-4bd5-800a-dae61d32d3e3"
      },
      "execution_count": 23,
      "outputs": [
        {
          "output_type": "stream",
          "name": "stdout",
          "text": [
            "RS: Most-Popular\n",
            "\t- Min: 0\n",
            "\t- Max: 10\n",
            "\t- Mean: 1.054139072847682\n",
            "\t- Median: 0.0\n",
            "\t- STD: 1.600253318273547\n",
            "RS: Best-Rated\n",
            "\t- Min: 0\n",
            "\t- Max: 10\n",
            "\t- Mean: 1.0440397350993378\n",
            "\t- Median: 0.0\n",
            "\t- STD: 1.631046338201806\n",
            "RS: Rocchio\n",
            "\t- Min: 0\n",
            "\t- Max: 9\n",
            "\t- Mean: 0.2685430463576159\n",
            "\t- Median: 0.0\n",
            "\t- STD: 0.6718590373194409\n",
            "RS: PureSVD\n",
            "\t- Min: 0\n",
            "\t- Max: 10\n",
            "\t- Mean: 1.2849337748344372\n",
            "\t- Median: 1.0\n",
            "\t- STD: 1.6844943909761534\n"
          ]
        }
      ]
    },
    {
      "cell_type": "code",
      "source": [
        "plotDistribution(list(hitRate_MP.values()), 'Users', 'Hit Rate', 'Most Popular')\n",
        "# plotDistribution(list(hitRate_BR.values()), 'Users', 'Hit Rate', 'Best-Rated')\n",
        "# plotDistribution(list(hitRate_Roc.values()), 'Users', 'Hit Rate', 'Rocchio')\n",
        "plotDistribution(list(hitRate_SVD.values()), 'Users', 'Hit Rate', 'PureSVD')"
      ],
      "metadata": {
        "colab": {
          "base_uri": "https://localhost:8080/",
          "height": 955
        },
        "id": "wHQcy-g92NTH",
        "outputId": "91aee37e-b4da-401c-dc7b-07497d27373b"
      },
      "execution_count": 25,
      "outputs": [
        {
          "output_type": "display_data",
          "data": {
            "text/plain": [
              "<Figure size 640x480 with 1 Axes>"
            ],
            "image/png": "[encoded data removed]"
          },
          "metadata": {}
        },
        {
          "output_type": "display_data",
          "data": {
            "text/plain": [
              "<Figure size 640x480 with 1 Axes>"
            ],
            "image/png": "[encoded data removed]"
          },
          "metadata": {}
        }
      ]
    },
    {
      "cell_type": "code",
      "source": [],
      "metadata": {
        "id": "r_YwFk5Q3F0P"
      },
      "execution_count": null,
      "outputs": []
    },
    {
      "cell_type": "markdown",
      "source": [],
      "metadata": {
        "id": "e5c2KqNZ3eNn"
      }
    },
    {
      "cell_type": "markdown",
      "source": [
        "## Measuring precision and recall and analyzing it"
      ],
      "metadata": {
        "id": "iep180Gs3enb"
      }
    },
    {
      "cell_type": "code",
      "source": [
        "precision_MP, recall_MP = metric_precision_recall(users_targets, test_matrix, rec_MostPopular)\n",
        "precision_BR, recall_BR = metric_precision_recall(users_targets, test_matrix, rec_BestRated)\n",
        "precision_Roc, recall_Roc = metric_precision_recall(users_targets, test_matrix, rec_Rocchio)\n",
        "precision_SVD, recall_SVD = metric_precision_recall(users_targets, test_matrix, rec_PureSVD)"
      ],
      "metadata": {
        "id": "GAA4q7jl3enc"
      },
      "execution_count": 28,
      "outputs": []
    },
    {
      "cell_type": "markdown",
      "source": [
        "Precision Analyzing"
      ],
      "metadata": {
        "id": "eZTReHd64Gse"
      }
    },
    {
      "cell_type": "code",
      "source": [
        "statisticInformation(list(precision_MP.values()), \"Most-Popular\")\n",
        "statisticInformation(list(precision_BR.values()), \"Best-Rated\")\n",
        "statisticInformation(list(precision_Roc.values()), \"Rocchio\")\n",
        "statisticInformation(list(precision_SVD.values()), \"PureSVD\")"
      ],
      "metadata": {
        "colab": {
          "base_uri": "https://localhost:8080/"
        },
        "outputId": "27668a1a-003d-46d0-c9ce-2b3212d492c9",
        "id": "P-hrXGKm3enc"
      },
      "execution_count": 29,
      "outputs": [
        {
          "output_type": "stream",
          "name": "stdout",
          "text": [
            "RS: Most-Popular\n",
            "\t- Min: 0.0\n",
            "\t- Max: 1.0\n",
            "\t- Mean: 0.0783112582781457\n",
            "\t- Median: 0.0\n",
            "\t- STD: 0.13272411686560392\n",
            "RS: Best-Rated\n",
            "\t- Min: 0.0\n",
            "\t- Max: 1.0\n",
            "\t- Mean: 0.07960264900662252\n",
            "\t- Median: 0.0\n",
            "\t- STD: 0.13691676204206008\n",
            "RS: Rocchio\n",
            "\t- Min: 0.0\n",
            "\t- Max: 0.5\n",
            "\t- Mean: 0.014619205298013247\n",
            "\t- Median: 0.0\n",
            "\t- STD: 0.04534475037006396\n",
            "RS: PureSVD\n",
            "\t- Min: 0.0\n",
            "\t- Max: 1.0\n",
            "\t- Mean: 0.09827814569536424\n",
            "\t- Median: 0.0\n",
            "\t- STD: 0.14322566637703013\n"
          ]
        }
      ]
    },
    {
      "cell_type": "markdown",
      "source": [
        "Recall Analyzing"
      ],
      "metadata": {
        "id": "QqnFW4hW4PNy"
      }
    },
    {
      "cell_type": "code",
      "source": [
        "statisticInformation(list(recall_MP.values()), \"Most-Popular\")\n",
        "statisticInformation(list(recall_BR.values()), \"Best-Rated\")\n",
        "statisticInformation(list(recall_Roc.values()), \"Rocchio\")\n",
        "statisticInformation(list(recall_SVD.values()), \"PureSVD\")"
      ],
      "metadata": {
        "colab": {
          "base_uri": "https://localhost:8080/"
        },
        "id": "h8kfs-R_4Scc",
        "outputId": "47b73056-66fc-4dd2-8cb6-e05ba737a40e"
      },
      "execution_count": 30,
      "outputs": [
        {
          "output_type": "stream",
          "name": "stdout",
          "text": [
            "RS: Most-Popular\n",
            "\t- Min: 0.0\n",
            "\t- Max: 1.0\n",
            "\t- Mean: 0.04995044597234478\n",
            "\t- Median: 0.0\n",
            "\t- STD: 0.09871510288985426\n",
            "RS: Best-Rated\n",
            "\t- Min: 0.0\n",
            "\t- Max: 1.0\n",
            "\t- Mean: 0.05081093237477739\n",
            "\t- Median: 0.0\n",
            "\t- STD: 0.10232208900723808\n",
            "RS: Rocchio\n",
            "\t- Min: 0.0\n",
            "\t- Max: 1.0\n",
            "\t- Mean: 0.013143848897088504\n",
            "\t- Median: 0.0\n",
            "\t- STD: 0.05526768364931675\n",
            "RS: PureSVD\n",
            "\t- Min: 0.0\n",
            "\t- Max: 1.0\n",
            "\t- Mean: 0.07907353453517718\n",
            "\t- Median: 0.0\n",
            "\t- STD: 0.1348399727729013\n"
          ]
        }
      ]
    },
    {
      "cell_type": "code",
      "source": [],
      "metadata": {
        "id": "Lc_9Ejbu3enc"
      },
      "execution_count": null,
      "outputs": []
    }
  ]
}